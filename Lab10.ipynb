{
  "nbformat": 4,
  "nbformat_minor": 0,
  "metadata": {
    "colab": {
      "name": "Untitled3.ipynb",
      "provenance": []
    },
    "kernelspec": {
      "name": "python3",
      "display_name": "Python 3"
    }
  },
  "cells": [
    {
      "cell_type": "markdown",
      "metadata": {
        "id": "W_NmNjvLe1ZJ"
      },
      "source": [
        "# **Linear Algebra For CpE**\r\n",
        "\r\n",
        "**Laboratory 10 : Linear Transformations**\r\n",
        "\r\n",
        "Coded and Submitted by:\r\n",
        "\r\n",
        "Almaden, Edward Djan Niccolo V.\r\n",
        "\r\n",
        "58010"
      ]
    },
    {
      "cell_type": "code",
      "metadata": {
        "colab": {
          "base_uri": "https://localhost:8080/",
          "height": 286
        },
        "id": "i9cPShBreuNU",
        "outputId": "31b72139-c8c7-4ec1-d21b-bb5aeb00fa5e"
      },
      "source": [
        "import numpy as np\r\n",
        "import matplotlib.pyplot as plt\r\n",
        "%matplotlib inline\r\n",
        "\r\n",
        "def plot_scatter(s,t_mat=np.eye(2)):\r\n",
        "    s_prime = s @ t_mat\r\n",
        "    size= (5,5)\r\n",
        "    plt.figure(figsize=(4,4))\r\n",
        "    #np.arange for range of the scatterplot\r\n",
        "    arange = np.arange(0,3,.5)  \r\n",
        "    \r\n",
        "    plt.xlim(-size[0],size[0])\r\n",
        "    plt.ylim(-size[1],size[1])\r\n",
        "    plt.xticks(np.arange((-size[0]), size[0]+1, 1.0))\r\n",
        "    plt.yticks(np.arange((-size[1]), size[1]+1, 1.0))\r\n",
        "    \r\n",
        "    plt.scatter(arange*s_prime[0,0],arange*s_prime[0,1], color = 'red')  \r\n",
        "    plt.scatter(arange*s_prime[1,0],arange*s_prime[1,1], color = 'blue')  \r\n",
        "    \r\n",
        "    plt.grid()\r\n",
        "    plt.show()\r\n",
        "\r\n",
        "    A = np.array([\r\n",
        "    [1, 0],\r\n",
        "    [0, 1]\r\n",
        "])\r\n",
        "t_mat = np.array([\r\n",
        "    [-1,0],\r\n",
        "    [0,-1]\r\n",
        "])\r\n",
        "\r\n",
        "\r\n",
        "print(\"Repositioning\")\r\n",
        "plot_scatter(A, t_mat)"
      ],
      "execution_count": 33,
      "outputs": [
        {
          "output_type": "stream",
          "text": [
            "Repositioning\n"
          ],
          "name": "stdout"
        },
        {
          "output_type": "display_data",
          "data": {
            "image/png": "[encoded data removed]",
            "text/plain": [
              "<Figure size 288x288 with 1 Axes>"
            ]
          },
          "metadata": {
            "tags": [],
            "needs_background": "light"
          }
        }
      ]
    },
    {
      "cell_type": "code",
      "metadata": {
        "id": "uYuneyOYi7ya"
      },
      "source": [
        ""
      ],
      "execution_count": null,
      "outputs": []
    }
  ]
}